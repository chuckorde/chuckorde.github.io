{
 "metadata": {
  "name": ""
 },
 "nbformat": 3,
 "nbformat_minor": 0,
 "worksheets": [
  {
   "cells": [
    {
     "cell_type": "markdown",
     "metadata": {},
     "source": [
      "When I consider the current approach the information security industry is taking to defend our assets against an ever increasing number of attackers with different motives, I can\u2019t help but draw a comparison between this approach and the approach that was taken by Dr. Robert Neville in the 1954 science fiction novel, \u201cI Am Legend\u201d <!-- TEASER_END --> by Richard Matheson. As a side note, the book is very different from the 2007 movie adaptation starring actor Will Smith.\n",
      "\n",
      "If you have not read the book, Neville (presumably the last survivor of a pandemic) spends his time shoring up his defenses against the \u201cinfected.\u201d He exists in a seemingly endless cycle of fortifying his home, and constructing weapons to kill vampires. This routine leaves him little time to accomplish the tasks that he feels would improve his overall situation.\n",
      "\n",
      "As our hero becomes more efficient in his task of dispatching his enemies, they also adapt, matching his efforts with their own while continuing to maintain their natural advantage of numbers. \n",
      "\n",
      "The vampires evolve from rock-throwing nuisances to highly tactical adversaries. They begin to rebuild and a new society emerges. Neville is captured in the end and while awaiting his execution he realizes that the world has changed and that many of the beliefs he held are simply no longer valid in this new world. The story ends with a revelation, where he finally understands that the monsters he had been fighting against were driven by the same motives that drove him. He realizes that they were acting on their own rational self-interest and a desire to survive. \n",
      "\n",
      "What does this have to do with information security? \n",
      "\n",
      "We use the term \u201cattacker\u201d quite often and without strict definition. The agents of security events come in many forms, but our general approach to this problem is singular. \u201cThink like the attacker.\u201d This approach has left us nailing planks to our windows and stringing garlic along our doors rather than taking strategic steps toward improving our business.\n",
      "\n",
      "I don\u2019t subscribe to the popular idea that we must train our security professionals in the same arts of the hackers. We are playing a game that on scale we cannot win. We need to change the game or at least change the rules by which we play it.\n",
      "\n",
      "I do, however, think we can benefit from a better understanding of the role the attacker plays in our defenses, or more specifically shedding our current ideas of \u201cthe attacker.\u201d They are not mystical creatures that may, at any minute, emerge from the darkness and steal our data. They are people just like the rest of us with specific motives, skills and tools. \n",
      "\n",
      "In order to combat cyber criminals, we need only to evaluate their skill and tools. It does not matter who the attackers are; it matters what their capabilities are. \n",
      "\n",
      "I remember a time when what we now call information security was underground. If you needed an exploit, or even something as common today as a port scanner, you had to write one. The people who created these tools and exploits were hobbyists, or at least a smaller subset of criminal. The stakes were lower on both sides. It was all very black and white then.\n",
      "\n",
      "Times have changed. Today\u2019s attackers, not unlike Matheson\u2019s vampires, have evolved from a rock-throwing nuisance to highly tactical adversaries. Their skills and tools have evolved to meet the new challenges presented by our defenses. \n",
      "\n",
      "This comes as no surprise as they have access to the same information and technology that we are creating to combat them. Not to mention that the underground still exists today. Fire up a Tor proxy and for a handful of Bitcoins you can purchase one of the latest \u201cexploit packs\u201d and be on your way to your own criminal empire.\n",
      "\n",
      "I have spent the better part of the last two decades honing these very skills. Due to a need in the market for these skills, I have had the benefit of time and focus as well as the opportunity to work and grow with other security professionals.\n",
      "\n",
      "I have always enjoyed figuring out how things work, and finding an edge was, to me, more exciting than winning. In board games, and now more prevalently video games, this is called cheating. In the real world this line is a bit fuzzier. \n",
      "\n",
      "A competitive edge in business is often the only difference between success and failure. We have to be clever to win, but unlike attackers we are bound by ethics. Like everything else, this comes in degrees and extends beyond security. You have undoubtedly heard someone say: \u201che really knows how to work the system.\u201d Whether you agree with that person\u2019s tactics or not, he has found an edge.\n",
      "\n",
      "Whether you agree is the defining point. The difference between security professionals and attackers is motive. \n",
      "\n",
      "We assume that the security professionals that we are training to protect our organization are motivated not to attack us. Their careers, reputation, and morals would be at risk. We hope (and check), simply that they are not criminals. \n",
      "\n",
      "There are many things that motivate attackers. Money, politics, hacktivism, or even a grudge could, in the attackers mind, outweigh the things that prevent most people from committing crimes. \n",
      "\n",
      "I am not condoning the behavior of cyber criminals (or vampires). I am simply stating that there is no reason to think that they are not acting rationally. Rather than fear the unknown, let\u2019s focus on what we know.\n",
      "\n",
      "From this vantage point motive begins to matter less. The way to defend against an attack is to understand the attacker\u2019s capabilities. The rest is just noise.\n",
      "\n",
      "Today, there is an abundance of tools that assist with, and in some cases automate attacks on technology. This tactic is designed to identify flaws in an organization\u2019s security program and address them before they are identified by an attacker.\n",
      "\n",
      "The problem with this approach is three fold. The attackers are not bound by the same rules, and therefore will always be more agile. The attackers have access to the same tools and may identify gaps in these tools or the functions that they are intended to execute. Finally, and perhaps most importantly, while this approach describes an attack example, there may be many more. The attacker needs only one to be successful, whereas we have to defend against all of them to succeed. \n",
      "\n",
      "We have created a game where we are at a disadvantage and have exposed the inner workings of that game to the attacker. The attackers enjoy the same research and work created by the market to fill a need to defend against them. They have a natural advantage.\n",
      "\n",
      "Where is our advantage? Visibility. The attackers are trying to gain access, whereas we already have it. All of our processes should take advantage of this head start. Rather than attempting to emulate the attacker, instead we can understand that an attacker is only an agent of an event, and an event can be defined as a collection of data points with probabilities and impacts.\n",
      "\n",
      "When we shift our focus away from the attacker, and towards measuring the things that we value, we can begin to maximize the benefits of analytical tools and methodologies that are emerging in the market.\n",
      "\n"
     ]
    }
   ],
   "metadata": {}
  }
 ]
}