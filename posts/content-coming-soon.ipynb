{
 "metadata": {
  "name": ""
 },
 "nbformat": 3,
 "nbformat_minor": 0,
 "worksheets": [
  {
   "cells": [
    {
     "cell_type": "markdown",
     "metadata": {},
     "source": [
      "I think I have things (mostly) the way I want them.  I'll be uploading some content as soon as I have time to format it.  Stay tuned."
     ]
    }
   ],
   "metadata": {}
  }
 ]
}