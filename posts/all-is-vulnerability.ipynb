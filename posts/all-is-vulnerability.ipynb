{
 "metadata": {
  "name": ""
 },
 "nbformat": 3,
 "nbformat_minor": 0,
 "worksheets": [
  {
   "cells": [
    {
     "cell_type": "markdown",
     "metadata": {},
     "source": [
      "In a previous [article](/posts/i-am-attacker.html) I shared my thoughts on how I believe the current approach to a proactive security program can benefit from a change in perspective. In this article I\u2019ll extend the topic from the \u201cattacker\u201d to the \u201cvulnerability\u201d.<!-- TEASER_END --> \n",
      "\n",
      "Security is a relatively young industry with many problems left unsolved. As with all new problems we start with an approach that seems logical and build upon it solving edge case problems, reevaluating our approach and changing it if needed. This idea is probably as old as mankind. Another age old truth is that change is difficult.\n",
      "\n",
      "Around the 6th century BC the popular beliefs and fundamental views on numbers were very different then they are today. The Pythagoreans were ancient Greek philosophers and mathematicians that were instrumental in the advancement of our modern knowledge. The dictum of the Pythagorean School was \"All is Number\" as they were the first to attempt to use numbers to describe nature. By modern standards these advancements were not without some pretty significant missteps and this motto, although catchy, represents their biggest misstep.\n",
      "\n",
      "Our current view that numbers can be placed on an infinite line centered at zero, and that this line can be infinitely subdivided between any two numbers, is so well excepted and natural to us now that is it difficult to imagine that these numbers could exist any other way.\n",
      "\n",
      "The Pythagoreans believed that numbers existed in *groups* and the thing that connected these groups was not a line, but proportions. Ironically, it was one of the Pythagoreans greatest discoveries that exposed the flaw in this idea. The Pythagoreans discovered that:\n",
      "\n",
      "> \u201cthe sum of the squares of the lengths of each of the triangle's legs is the same as the square of the length of the triangle's hypotenuse.\u201d\n",
      "\n",
      "This means that a one-unit square will have a squared diagonal of 2, therefore the length of the diagonal is the square root of 2, which is irrational and cannot be represented as the ratio of two whole numbers.\n",
      "\n",
      "They believed that all numbers were rational so they looked for larger and larger numbers that could express the square root of 2 as a whole number ratio. It is easy for us now with the benefit of millennia of knowledge and modern tools like algebra to see that they were wasting their time, but this was the best idea they had and it was so intertwined in their beliefs that they could not abandon it and start over.\n",
      "\n",
      "It was a beautiful idea it just had some critical problems that prevented it from allowing us as a society to progress and build upon it as a foundation for advancing our knowledge. Eventually we accepted that the idea was flawed and changed the way that we thought about numbers.\n",
      "\n",
      "In the Security industry we believe that vulnerabilities exist in groups. We classify and measure them purely on their technical merits, but like the [attacker](/posts/i-am-attacker.html) the vulnerability by itself has no meaning. We care about potential and the likelihood that the potential will be realized.\n",
      "So what is a vulnerability? How can we define vulnerabilities in such a way that they are meaningful and useful? I like to think of a vulnerability as a modifier of **expected value**. \n",
      "\n",
      "When an organization invests in a piece of technology it is done so based on the expectation that the technology will add value. Generally this value, in one way or another, is in the form of creating and consuming information, or increasing efficiency. We can reduce this to efficiency as information can certainly be put into action without technology.\n",
      "\n",
      "For many years business accounting was performed with a pencil and a ledger. The shift to technology based accounting increases efficiency as the required tasks can be performed faster and on a much larger scale with fewer resources and is less prone to human error.  There are also ancillary benefits such as the reusability of information to provide business metrics.  \n",
      "\n",
      "Assuming that the need for accounting exists regardless of our choice, it is necessary to understand the cost of both approaches in order to determine the value of the technology. For example, if we have identified that the cost of the technology (software, licensing, infrastructure, power, staff, etc.) is half of the cost of the manual approach then we would expect that this investment is a sound business decision.  \n",
      "\n",
      "This is common practice for creating a business case for a particular technology spend.  There are, however, additional hidden costs that may modify the information used in our decision and potentially change our expected value (this is a generalized example and a slight abuse of technical definition). One example of these hidden costs are vulnerabilities.  \n",
      "\n",
      "Vulnerabilities are not hidden because we cannot identify them; they are hidden because we have misplaced them. Vulnerabilities are treated as separate entities that present some intrinsic risk to the organization, an inevitable evil creating a cost center and causing us to count our winnings as negative loses.  It is my opinion that vulnerabilities are variables, and that we would be better served understanding and measuring the process that they might effect rather than holding on to our prior beliefs.\n"
     ]
    }
   ],
   "metadata": {}
  }
 ]
}