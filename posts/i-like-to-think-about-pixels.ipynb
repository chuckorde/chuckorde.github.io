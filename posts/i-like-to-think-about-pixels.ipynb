{
 "metadata": {
  "name": ""
 },
 "nbformat": 3,
 "nbformat_minor": 0,
 "worksheets": [
  {
   "cells": [
    {
     "cell_type": "markdown",
     "metadata": {},
     "source": [
      "I have been thinking about parallax scrolling lately. It's a neat effect.  \n",
      "\n",
      "After looking at a few [very good](http://prinzhorn.github.io/skrollr/) JavaScript libraries I started thinking about\n",
      "some cools things to do with a mouse wheel input.\n",
      "\n",
      "I want to scroll in *every direction*, I want to *scale* and *fade*, I want it all.<!-- TEASER_END -->\n",
      "\n",
      "This was interesting enought to hold my attention for a weekend, so I decided to write my own.  \n",
      "I'm currently doing some pro bono web development\n",
      "in my free time, so I'll release the JS code and documentation shortly.\n",
      "\n",
      "In the mean time here's a quick demo.  This is doing *a lot* of lifting behind\n",
      "the scenes and it is not production code, just an [example](/pixels).\n",
      "\n",
      "Enjoy!\n",
      "\n",
      "**[I like to think about pixels!](/pixels)**"
     ]
    }
   ],
   "metadata": {}
  }
 ]
}